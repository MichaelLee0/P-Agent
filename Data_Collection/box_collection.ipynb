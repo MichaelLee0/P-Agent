{
 "metadata": {
  "language_info": {
   "codemirror_mode": {
    "name": "ipython",
    "version": 3
   },
   "file_extension": ".py",
   "mimetype": "text/x-python",
   "name": "python",
   "nbconvert_exporter": "python",
   "pygments_lexer": "ipython3",
   "version": "3.8.8-final"
  },
  "orig_nbformat": 2,
  "kernelspec": {
   "name": "python3",
   "display_name": "Python 3",
   "language": "python"
  }
 },
 "nbformat": 4,
 "nbformat_minor": 2,
 "cells": [
  {
   "cell_type": "code",
   "execution_count": 2,
   "metadata": {},
   "outputs": [],
   "source": [
    "import airsim"
   ]
  },
  {
   "cell_type": "code",
   "execution_count": 3,
   "metadata": {},
   "outputs": [
    {
     "output_type": "stream",
     "name": "stdout",
     "text": [
      "Connected!\nClient Ver:1 (Min Req: 1), Server Ver:1 (Min Req: 1)\n\n"
     ]
    },
    {
     "output_type": "execute_result",
     "data": {
      "text/plain": [
       "True"
      ]
     },
     "metadata": {},
     "execution_count": 3
    }
   ],
   "source": [
    "# connect to the AirSim simulator\n",
    "client = airsim.MultirotorClient()\n",
    "client.confirmConnection()\n",
    "client.enableApiControl(True)       # Pass control to the API's\n",
    "client.armDisarm(True)      # Arm the drone"
   ]
  },
  {
   "cell_type": "code",
   "execution_count": null,
   "metadata": {},
   "outputs": [],
   "source": [
    "airsim.wait_key('Press any key to takeoff')\n",
    "client.takeoffAsync().join()"
   ]
  },
  {
   "cell_type": "code",
   "execution_count": null,
   "metadata": {},
   "outputs": [],
   "source": [
    "client.takeoffAsync().join()        # Takeoff! .join() to wait for task to complete via async\n",
    "client.takeoffAsync().join()\n",
    "# client.moveToPositionAsync(0,0,1)"
   ]
  },
  {
   "cell_type": "code",
   "execution_count": null,
   "metadata": {},
   "outputs": [],
   "source": [
    "#TODO: add simGetObjectPose to get coordinates of box and append to airsim's data collection?"
   ]
  }
 ]
}